{
 "cells": [
  {
   "cell_type": "code",
   "execution_count": 69,
   "id": "72e989ab",
   "metadata": {},
   "outputs": [
    {
     "name": "stdout",
     "output_type": "stream",
     "text": [
      "1.2 13 4.1\n",
      "\n",
      "2 2 1 3\n",
      "\n",
      "1 2 5 7 1 4\n",
      "\n",
      "5.5 22\n",
      "\n",
      " [['1.2', '13', '4.1\\n'], ['2', '2', '1', '3\\n'], ['1', '2', '5', '7', '1', '4\\n'], ['5.5', '22']] \n",
      "\n",
      "x의 길이는 4\n"
     ]
    }
   ],
   "source": [
    "#input 파일 열기 \n",
    "#파일 라인별로 읽으면서 lines에 저장하기\n",
    "#lines에 저장한 걸 split해서배열에 담기\n",
    "#output 파일 열기\n",
    "#배열에 담긴걸 output에 넣기\n",
    "\n",
    "fp = open('input.txt','r')\n",
    "x = []\n",
    "for line in fp:\n",
    "    print(line)\n",
    "    x.append(line.split(' '))\n",
    "\n",
    "print(\"\\n\",x,\"\\n\")\n",
    "print(\"x의 길이는\",len(x))\n",
    "\n",
    "#float로 전환\n",
    "#for group in x :\n",
    " #   for element in group :\n",
    "  #      element = float(element)\n",
    "##sum = [0,0,0,0]\n",
    "#for i in range(len(x)):\n",
    " #   for j in range(len(x[i])):\n",
    "  #      sum[i] += x[i][j]\n",
    "   # print(sum)\n",
    "        \n",
    "#print(\"최종결과 : \",sum)\n",
    "\n",
    "    \n",
    "        \n",
    "#print(type(x[0][1])\n",
    "    \n",
    "\n",
    "#for group in x:\n",
    " #   print(group,\"\\n\")\n",
    "  ##     int(element) += int (element)\n",
    "        \n",
    "        \n",
    "\n",
    "\n",
    "    "
   ]
  },
  {
   "cell_type": "code",
   "execution_count": null,
   "id": "bd95519f",
   "metadata": {},
   "outputs": [],
   "source": []
  }
 ],
 "metadata": {
  "kernelspec": {
   "display_name": "Python 3 (ipykernel)",
   "language": "python",
   "name": "python3"
  },
  "language_info": {
   "codemirror_mode": {
    "name": "ipython",
    "version": 3
   },
   "file_extension": ".py",
   "mimetype": "text/x-python",
   "name": "python",
   "nbconvert_exporter": "python",
   "pygments_lexer": "ipython3",
   "version": "3.9.5"
  }
 },
 "nbformat": 4,
 "nbformat_minor": 5
}
