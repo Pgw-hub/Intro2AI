{
 "cells": [
  {
   "cell_type": "markdown",
   "id": "1a543707",
   "metadata": {},
   "source": [
    "HW_1 by 21901023 박건우\n",
    "\n",
    "1.Objective : This code reads numbers from 'input.txt'and write sum of each row to 'output.txt'and print out the sums\n",
    "\n",
    "2.Input\n",
    "* input.txt\n",
    "\n",
    "3.Output\n",
    "* output.txt\n",
    "* printout the results\n",
    "  "
   ]
  },
  {
   "cell_type": "code",
   "execution_count": 23,
   "id": "0c3bb105",
   "metadata": {},
   "outputs": [
    {
     "name": "stdout",
     "output_type": "stream",
     "text": [
      "1.2 13 4.1\n",
      "\n",
      "2 2 1 3\n",
      "\n",
      "1 2 5 7 1 4\n",
      "\n",
      "5.5 22\n",
      "\n",
      " [['1.2', '13', '4.1'], ['2', '2', '1', '3'], ['1', '2', '5', '7', '1', '4'], ['5.5', '22']] \n",
      "\n",
      "x의 길이는 4\n",
      "\n",
      " [[1.2, 13.0, 4.1], [2.0, 2.0, 1.0, 3.0], [1.0, 2.0, 5.0, 7.0, 1.0, 4.0], [5.5, 22.0]] \n",
      "\n",
      "\n",
      " ['18.299999999999997', '8.0', '20.0', '27.5'] \n",
      "\n"
     ]
    }
   ],
   "source": [
    "#open input.txt\n",
    "fp = open('input.txt','r')\n",
    "\n",
    "#split and remove '\\n'\n",
    "x = []\n",
    "for line in fp:\n",
    "    print(line)\n",
    "    x.append(line.replace('\\n','').split(' '))\n",
    "\n",
    "fp.close()\n",
    "print(\"\\n\",x,\"\\n\")\n",
    "print(\"x의 길이는\",len(x))\n",
    "\n",
    "#convert type into float\n",
    "floatlist_out = []\n",
    "for i in range(len(x))  :\n",
    "    floatlist_in = []\n",
    "    for j in range(len(x[i])) :\n",
    "        floatlist_in.append(float(x[i][j]))\n",
    "    floatlist_out.append(floatlist_in)\n",
    "print(\"\\n\",floatlist_out,\"\\n\");      \n",
    "\n",
    "#make sum list with str type\n",
    "sum = []\n",
    "for group in floatlist_out :\n",
    "    value = 0\n",
    "    for element in group :\n",
    "        value += element\n",
    "    sum.append(str(value))\n",
    "print(\"\\n\",sum,\"\\n\")\n",
    "\n",
    "#open output.txt\n",
    "fp = open('output.txt','w')\n",
    "\n",
    "#and write the result\n",
    "for i in range(len(sum)) :\n",
    "    fp.write(sum[i])\n",
    "    fp.write('\\n')\n",
    "fp.close()\n",
    "    \n",
    "\n",
    "        \n",
    "\n",
    "\n",
    "    "
   ]
  },
  {
   "cell_type": "code",
   "execution_count": null,
   "id": "f3c567f5",
   "metadata": {},
   "outputs": [],
   "source": []
  }
 ],
 "metadata": {
  "kernelspec": {
   "display_name": "Python 3 (ipykernel)",
   "language": "python",
   "name": "python3"
  },
  "language_info": {
   "codemirror_mode": {
    "name": "ipython",
    "version": 3
   },
   "file_extension": ".py",
   "mimetype": "text/x-python",
   "name": "python",
   "nbconvert_exporter": "python",
   "pygments_lexer": "ipython3",
   "version": "3.9.5"
  }
 },
 "nbformat": 4,
 "nbformat_minor": 5
}
