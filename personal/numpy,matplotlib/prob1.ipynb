{
 "cells": [
  {
   "cell_type": "markdown",
   "id": "c8541d0d",
   "metadata": {},
   "source": [
    "HW_2 by 21901023 박건우\n",
    "\n",
    "1.Objective : This code reads specific data from 'data_set_train.csv'and calculate and print out average of each year\n",
    "\n",
    "2.Input\n",
    "\n",
    "data_set_train.csv\n",
    "\n",
    "3.Output\n",
    "\n",
    "printout the results"
   ]
  },
  {
   "cell_type": "code",
   "execution_count": 26,
   "id": "0918e0af",
   "metadata": {
    "scrolled": true
   },
   "outputs": [
    {
     "name": "stdout",
     "output_type": "stream",
     "text": [
      "2006 avg :  67076.58\n",
      "2007 avg :  58405.72\n",
      "2008 avg :  66136.67\n",
      "2009 avg :  83060.5\n",
      "2010 avg :  77282.03\n",
      "2011 avg :  76748.97\n",
      "2012 avg :  72714.52\n",
      "2013 avg :  78839.02\n",
      "2014 avg :  84002.7\n",
      "2015 avg :  87213.44\n",
      "2016 avg :  97149.95\n",
      "2017 avg :  114656.79\n"
     ]
    }
   ],
   "source": [
    "import numpy as np\n",
    "\n",
    "path = ('/Users/parkgeonwoo/Documents/CLASS/ai_introduction/Intro2AI/personal/numpy,matplotlib/data_set_train - data_set.csv')\n",
    "file = np.loadtxt(path,skiprows=1,dtype = 'str', delimiter = ',',usecols =(0,1,2))\n",
    "\n",
    "yearname = ['2006','2007','2008','2009','2010','2011','2012','2013','2014','2015','2016','2017']\n",
    "year = np.array(file[:,1])\n",
    "price = np.array(file[:,2])\n",
    "price = np.asfarray(price,float)\n",
    "result = []\n",
    "\n",
    "for x in yearname :\n",
    "    count = np.char.count(year,x)\n",
    "    value = count * price\n",
    "    value = value[value > 0]\n",
    "    print(x + \" avg : \",round(np.mean(value),2))\n",
    "\n"
   ]
  },
  {
   "cell_type": "code",
   "execution_count": null,
   "id": "1378e4b8",
   "metadata": {},
   "outputs": [],
   "source": []
  },
  {
   "cell_type": "code",
   "execution_count": null,
   "id": "2bb43b0b",
   "metadata": {},
   "outputs": [],
   "source": []
  },
  {
   "cell_type": "code",
   "execution_count": null,
   "id": "994f45dc",
   "metadata": {},
   "outputs": [],
   "source": []
  }
 ],
 "metadata": {
  "kernelspec": {
   "display_name": "Python 3 (ipykernel)",
   "language": "python",
   "name": "python3"
  },
  "language_info": {
   "codemirror_mode": {
    "name": "ipython",
    "version": 3
   },
   "file_extension": ".py",
   "mimetype": "text/x-python",
   "name": "python",
   "nbconvert_exporter": "python",
   "pygments_lexer": "ipython3",
   "version": "3.9.5"
  }
 },
 "nbformat": 4,
 "nbformat_minor": 5
}
