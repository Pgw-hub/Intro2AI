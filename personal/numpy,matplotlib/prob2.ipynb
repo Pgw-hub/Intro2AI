{
 "cells": [
  {
   "cell_type": "markdown",
   "id": "2f33cdf0",
   "metadata": {},
   "source": [
    "HW_2_prob2 by 21901023 박건우\n",
    "\n",
    "1.Objective : This code reads specific data from 'data_set_train.csv'and calculate and print out average of each quater\n",
    "\n",
    "2.Input\n",
    "\n",
    "data_set_train.csv\n",
    "\n",
    "3.Output\n",
    "\n",
    "printout the results"
   ]
  },
  {
   "cell_type": "code",
   "execution_count": 6,
   "id": "d1b854d7",
   "metadata": {},
   "outputs": [
    {
     "name": "stdout",
     "output_type": "stream",
     "text": [
      "2006Q1 avg :  65661.17\n",
      "2006Q2 avg :  59592.49\n",
      "2006Q3 avg :  62410.72\n",
      "2007Q1 avg :  47336.4\n",
      "2007Q2 avg :  65344.61\n",
      "2007Q3 avg :  58634.69\n",
      "2008Q1 avg :  63515.58\n",
      "2008Q2 avg :  62458.85\n",
      "2008Q3 avg :  72233.96\n",
      "2009Q1 avg :  85574.77\n",
      "2009Q2 avg :  84314.42\n",
      "2009Q3 avg :  83246.47\n",
      "2010Q1 avg :  80386.73\n",
      "2010Q2 avg :  71885.82\n",
      "2010Q3 avg :  72697.58\n",
      "2011Q1 avg :  77359.5\n",
      "2011Q2 avg :  68071.24\n",
      "2011Q3 avg :  78499.77\n",
      "2012Q1 avg :  73633.61\n",
      "2012Q2 avg :  73102.35\n",
      "2012Q3 avg :  78050.49\n",
      "2013Q1 avg :  77980.51\n",
      "2013Q2 avg :  76391.85\n",
      "2013Q3 avg :  76638.47\n",
      "2014Q1 avg :  84038.77\n",
      "2014Q2 avg :  81931.4\n",
      "2014Q3 avg :  79218.36\n",
      "2015Q1 avg :  76180.14\n",
      "2015Q2 avg :  81677.28\n",
      "2015Q3 avg :  98509.43\n",
      "2016Q1 avg :  87456.07\n",
      "2016Q2 avg :  94492.74\n",
      "2016Q3 avg :  104774.82\n"
     ]
    }
   ],
   "source": [
    "import numpy as np\n",
    "\n",
    "path = ('/Users/parkgeonwoo/Documents/CLASS/ai_introduction/Intro2AI/personal/numpy,matplotlib/data_set_train - data_set.csv')\n",
    "file = np.loadtxt(path,skiprows=1,dtype = 'str', delimiter = ',',usecols =(0,1,2))\n",
    "\n",
    "yearname = ['2006','2007','2008','2009','2010','2011','2012','2013','2014','2015','2016','2017']\n",
    "quatername = ['Q1','Q2','Q3','Q4']\n",
    "year = np.array(file[:,1])\n",
    "price = np.array(file[:,2])\n",
    "price = np.asfarray(price,float)\n",
    "result = []\n",
    "\n",
    "for i in range(len(yearname)) :\n",
    "    for j in range(len(quatername)):\n",
    "        if(i != len(yearname)-1 and j != len(quatername)-1) :\n",
    "            concretedate= yearname[i]+quatername[j]\n",
    "            count = np.char.count(year,concretedate)\n",
    "            value = count * price\n",
    "            value = value[value > 0]\n",
    "            print(concretedate + \" avg : \",round(np.mean(value),2))\n",
    "\n",
    "\n"
   ]
  }
 ],
 "metadata": {
  "kernelspec": {
   "display_name": "Python 3 (ipykernel)",
   "language": "python",
   "name": "python3"
  },
  "language_info": {
   "codemirror_mode": {
    "name": "ipython",
    "version": 3
   },
   "file_extension": ".py",
   "mimetype": "text/x-python",
   "name": "python",
   "nbconvert_exporter": "python",
   "pygments_lexer": "ipython3",
   "version": "3.9.5"
  }
 },
 "nbformat": 4,
 "nbformat_minor": 5
}
