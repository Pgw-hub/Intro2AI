{
 "cells": [
  {
   "cell_type": "markdown",
   "metadata": {},
   "source": [
    "# Preprocessing Part 1️⃣"
   ]
  },
  {
   "cell_type": "markdown",
   "metadata": {},
   "source": [
    "HW_3 by 21901023 박건우\n",
    "\n",
    "1.Objective : This code reads specific data from 'amazon_train_df.csv'and print the most frequent word for each review\n",
    "\n",
    "2.Input\n",
    "\n",
    "amazon_train_df.csv\n",
    "\n",
    "3.Output\n",
    "\n",
    "printout the results"
   ]
  },
  {
   "cell_type": "code",
   "execution_count": 59,
   "metadata": {},
   "outputs": [],
   "source": [
    "import pandas as pd\n",
    "import nltk\n",
    "from bs4 import BeautifulSoup\n",
    "import string\n",
    "from nltk.corpus import stopwords\n",
    "import spacy\n",
    "import numpy as np"
   ]
  },
  {
   "cell_type": "markdown",
   "metadata": {},
   "source": [
    "### 1. Read in csv file and create Dataframe & check shape."
   ]
  },
  {
   "cell_type": "code",
   "execution_count": 60,
   "metadata": {},
   "outputs": [
    {
     "name": "stdout",
     "output_type": "stream",
     "text": [
      "(500, 5)\n"
     ]
    }
   ],
   "source": [
    "train_df = pd.read_csv(\"amazon_train_df.csv\")\n",
    "print(train_df.shape)"
   ]
  },
  {
   "cell_type": "code",
   "execution_count": 85,
   "metadata": {},
   "outputs": [
    {
     "name": "stdout",
     "output_type": "stream",
     "text": [
      "1     These are smaller than than you think and a l...\n",
      "2     Thought this would make a lovely different ca...\n",
      "3     The sand is rubbish - very messy and doesn't ...\n",
      "4     Know it says random colours but wish we could...\n",
      "5     if(ue) {\\n    ue.count(\"reviewsCustomerAiryVi...\n",
      "Name: 4, dtype: object\n"
     ]
    },
    {
     "name": "stderr",
     "output_type": "stream",
     "text": [
      "[nltk_data] Downloading package stopwords to\n",
      "[nltk_data]     /Users/parkgeonwoo/nltk_data...\n",
      "[nltk_data]   Package stopwords is already up-to-date!\n"
     ]
    },
    {
     "data": {
      "text/plain": [
       "True"
      ]
     },
     "execution_count": 85,
     "metadata": {},
     "output_type": "execute_result"
    }
   ],
   "source": [
    "train_df = train_df[['1','4']]\n",
    "words = train_df.loc[1:5,'4']\n",
    "print(words)\n",
    "nltk.download('stopwords')"
   ]
  },
  {
   "cell_type": "code",
   "execution_count": 116,
   "metadata": {},
   "outputs": [
    {
     "name": "stdout",
     "output_type": "stream",
     "text": [
      "review  1 : I , one , small , think , little \n",
      "review  2 : cheap , would , even , also , money \n",
      "review  3 : sand , rubbish ,   , messy , stick \n",
      "review  4 : colour , like , know , say , random \n",
      "review  5 : video , \n",
      "     , Flash , watch , typeof \n"
     ]
    }
   ],
   "source": [
    "def remove_punctuation(text):\n",
    "    sent = []\n",
    "    for t in text.split(' '):\n",
    "        no_punct = \"\".join([c for c in t if c not in string.punctuation])\n",
    "        sent.append(no_punct)\n",
    "        \n",
    "    sentence = \" \".join(s for s in sent)\n",
    "    return sentence\n",
    "\n",
    "def make_frequency_dict(text):\n",
    "    for word in text:\n",
    "        if word not in dictionary:\n",
    "            dictionary[word] = 0\n",
    "        dictionary[word] += 1\n",
    "\n",
    "for i in range(1,6):\n",
    "    rmv_punc_sentence = remove_punctuation(words[i])\n",
    "    nlp = spacy.load('en_core_web_sm')\n",
    "    doc = nlp(rmv_punc_sentence.strip())\n",
    "    tok_lem_sentence = [(token.text, token.lemma_)for token in doc]\n",
    "    tok_lem_sentence = [token.lemma_ for token in doc]\n",
    "    stop_words = set(stopwords.words('english'))  \n",
    "    rmv_sw_sentence = [w for w in tok_lem_sentence if not w in stop_words]\n",
    "    dictionary = {}\n",
    "    make_frequency_dict(rmv_sw_sentence)\n",
    "    vocab_sorted = sorted(dictionary.items(), key=lambda x:x[1], reverse = True)\n",
    "    vocab_sorted\n",
    "    print(\"review \",i,\": \",end = '')\n",
    "    for j in range(5):\n",
    "        if(j == 4):\n",
    "            print(vocab_sorted[j][0], end = ' ')\n",
    "        else :\n",
    "            print(vocab_sorted[j][0],\",\", end = ' ')\n",
    "\n",
    "            \n",
    "    print()\n",
    "    "
   ]
  },
  {
   "cell_type": "code",
   "execution_count": null,
   "metadata": {},
   "outputs": [],
   "source": []
  }
 ],
 "metadata": {
  "kernelspec": {
   "display_name": "Python 3 (ipykernel)",
   "language": "python",
   "name": "python3"
  },
  "language_info": {
   "codemirror_mode": {
    "name": "ipython",
    "version": 3
   },
   "file_extension": ".py",
   "mimetype": "text/x-python",
   "name": "python",
   "nbconvert_exporter": "python",
   "pygments_lexer": "ipython3",
   "version": "3.9.5"
  }
 },
 "nbformat": 4,
 "nbformat_minor": 4
}
