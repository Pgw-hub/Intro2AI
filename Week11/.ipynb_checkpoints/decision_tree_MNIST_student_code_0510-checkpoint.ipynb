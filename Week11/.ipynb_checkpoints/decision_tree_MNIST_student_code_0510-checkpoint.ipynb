{
 "cells": [
  {
   "cell_type": "markdown",
   "metadata": {
    "id": "mr9tdTAGyDUH"
   },
   "source": [
    "### student code\n",
    "## STEP1. Load MNIST data and split into train and test data"
   ]
  },
  {
   "cell_type": "code",
   "execution_count": null,
   "metadata": {
    "colab": {
     "base_uri": "https://localhost:8080/"
    },
    "executionInfo": {
     "elapsed": 855,
     "status": "ok",
     "timestamp": 1620640393312,
     "user": {
      "displayName": "최슬기",
      "photoUrl": "",
      "userId": "07544998231005909564"
     },
     "user_tz": -540
    },
    "id": "lFWsRxurr-1k",
    "outputId": "6b5a3ba4-d661-4e1a-b628-288f5b2300d4"
   },
   "outputs": [
    {
     "name": "stdout",
     "output_type": "stream",
     "text": [
      "... loading data\n"
     ]
    }
   ],
   "source": [
    "import pickle\n",
    "import pandas as pd\n",
    "import numpy as np\n",
    "import matplotlib.pyplot as plt\n",
    "\n",
    "print('... loading data')\n",
    "with open('/content/drive/MyDrive/교과목개발/data/mnist.pkl', 'rb') as f:\n",
    "    train_set, valid_set, test_set = pickle.load(f, encoding='latin1')"
   ]
  },
  {
   "cell_type": "code",
   "execution_count": null,
   "metadata": {
    "id": "2WxC_JjFxJF9"
   },
   "outputs": [],
   "source": [
    "train_x, train_y = train_set\n",
    "test_x, test_y = test_set\n",
    "\n",
    "train_x = pd.DataFrame(train_x)\n",
    "train_y = pd.DataFrame(train_y, columns=['label'])\n",
    "test_x = pd.DataFrame(test_x)\n",
    "test_y = pd.DataFrame(test_y, columns=['label'])"
   ]
  },
  {
   "cell_type": "code",
   "execution_count": null,
   "metadata": {
    "id": "t7vEQMX223Nv"
   },
   "outputs": [],
   "source": [
    "sub_train_x = train_x.iloc[:500, :]\n",
    "sub_train_y = train_y.iloc[:500]\n",
    "sub_test_x = test_x.iloc[:100, :]\n",
    "sub_test_y = test_y.iloc[:100, :]"
   ]
  },
  {
   "cell_type": "markdown",
   "metadata": {
    "id": "D3IkB-vByI3N"
   },
   "source": [
    "----\n",
    "## STEP2 Classify MNIST data using __Decision Tree__🌲 sklearn library "
   ]
  },
  {
   "cell_type": "code",
   "execution_count": 1,
   "metadata": {
    "executionInfo": {
     "elapsed": 2046,
     "status": "ok",
     "timestamp": 1620653133210,
     "user": {
      "displayName": "최슬기",
      "photoUrl": "",
      "userId": "07544998231005909564"
     },
     "user_tz": -540
    },
    "id": "78WgYHgoxLK9"
   },
   "outputs": [],
   "source": [
    "from sklearn.tree import DecisionTreeClassifier\n",
    "\n",
    "## YOUR CODE STARTS HERE\n",
    "# decisionTree = ...\n",
    "# ..."
   ]
  },
  {
   "cell_type": "markdown",
   "metadata": {
    "id": "TyTamHyR7PgX"
   },
   "source": []
  },
  {
   "cell_type": "code",
   "execution_count": 3,
   "metadata": {
    "executionInfo": {
     "elapsed": 1416,
     "status": "ok",
     "timestamp": 1620653156794,
     "user": {
      "displayName": "최슬기",
      "photoUrl": "",
      "userId": "07544998231005909564"
     },
     "user_tz": -540
    },
    "id": "dUMTQS3oxdNO"
   },
   "outputs": [],
   "source": [
    "## YOUR CODE STARTS HERE\n",
    "# print(\"=== > Test set score : {:.2f}\".format(...))"
   ]
  },
  {
   "cell_type": "markdown",
   "metadata": {
    "id": "w-t63zLCzBPi"
   },
   "source": [
    "---\n",
    "## STEP3 Classify MNIST data using __Random Forest__🌲 sklearn library "
   ]
  },
  {
   "cell_type": "code",
   "execution_count": 4,
   "metadata": {
    "executionInfo": {
     "elapsed": 602,
     "status": "ok",
     "timestamp": 1620653181737,
     "user": {
      "displayName": "최슬기",
      "photoUrl": "",
      "userId": "07544998231005909564"
     },
     "user_tz": -540
    },
    "id": "Zjv3L9gI2cUv"
   },
   "outputs": [],
   "source": [
    "from sklearn.ensemble import RandomForestClassifier\n",
    "\n",
    "## YOUR CODE STARTS HERE\n",
    "# rforest = ...\n",
    "# ..."
   ]
  },
  {
   "cell_type": "code",
   "execution_count": 6,
   "metadata": {
    "executionInfo": {
     "elapsed": 606,
     "status": "ok",
     "timestamp": 1620653197255,
     "user": {
      "displayName": "최슬기",
      "photoUrl": "",
      "userId": "07544998231005909564"
     },
     "user_tz": -540
    },
    "id": "W9gv2T9b56-8"
   },
   "outputs": [],
   "source": [
    "## YOUR CODE STARTS HERE\n",
    "# print(\"Test set score : {:.2f}\".format(...))"
   ]
  },
  {
   "cell_type": "markdown",
   "metadata": {
    "id": "PshPmvdr9DaZ"
   },
   "source": [
    "-----\n",
    "## STEP4 Visualization of result"
   ]
  },
  {
   "cell_type": "code",
   "execution_count": 7,
   "metadata": {
    "executionInfo": {
     "elapsed": 621,
     "status": "ok",
     "timestamp": 1620653215400,
     "user": {
      "displayName": "최슬기",
      "photoUrl": "",
      "userId": "07544998231005909564"
     },
     "user_tz": -540
    },
    "id": "4-Cujfef4ZVR"
   },
   "outputs": [],
   "source": [
    "from sklearn.metrics import confusion_matrix\n",
    "import seaborn as sn\n",
    "\n",
    "## YOUR CODE STARTS HERE\n",
    "# pred_y = ...\n",
    "# cmdtree = ...\n",
    "\n",
    "plt.figure(figsize=(10,7))\n",
    "sn.heatmap(cmdtree, annot=True, fmt='d')\n",
    "\n",
    "plt.title(\" < CONFUSION MATRIX > \")\n",
    "plt.ylabel('Predicted label')\n",
    "plt.xlabel('True Label')\n",
    "\n",
    "plt.show()"
   ]
  },
  {
   "cell_type": "code",
   "execution_count": 8,
   "metadata": {
    "executionInfo": {
     "elapsed": 666,
     "status": "ok",
     "timestamp": 1620653228112,
     "user": {
      "displayName": "최슬기",
      "photoUrl": "",
      "userId": "07544998231005909564"
     },
     "user_tz": -540
    },
    "id": "48KVbfuw5_oj"
   },
   "outputs": [],
   "source": [
    "from sklearn.metrics import confusion_matrix\n",
    "import seaborn as sn\n",
    "\n",
    "## YOUR CODE STARTS HERE\n",
    "# pred_y = ...\n",
    "# rtree_cmd = ...\n",
    "\n",
    "plt.figure(figsize = (10, 7))\n",
    "sn.heatmap(rtree_cmd, annot=True, fmt='d')\n",
    "\n",
    "plt.title(\" < CONFUSION MATRIX > \")\n",
    "plt.ylabel('Predicted label')\n",
    "plt.xlabel('True Label')\n",
    "\n",
    "plt.show()"
   ]
  },
  {
   "cell_type": "code",
   "execution_count": null,
   "metadata": {
    "id": "A6DfN2pq9KQj"
   },
   "outputs": [],
   "source": []
  }
 ],
 "metadata": {
  "colab": {
   "authorship_tag": "ABX9TyO68+A+BCgfJc9S9QErQgI/",
   "collapsed_sections": [],
   "mount_file_id": "1giEWdBBjC0Joyzz0BzMR-ivml4BJmMRU",
   "name": "decision_tree_MNIST_student_code",
   "provenance": [],
   "toc_visible": true
  },
  "kernelspec": {
   "display_name": "Python 3 (ipykernel)",
   "language": "python",
   "name": "python3"
  },
  "language_info": {
   "codemirror_mode": {
    "name": "ipython",
    "version": 3
   },
   "file_extension": ".py",
   "mimetype": "text/x-python",
   "name": "python",
   "nbconvert_exporter": "python",
   "pygments_lexer": "ipython3",
   "version": "3.9.5"
  }
 },
 "nbformat": 4,
 "nbformat_minor": 1
}
